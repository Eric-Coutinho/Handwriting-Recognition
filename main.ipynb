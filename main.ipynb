{
 "cells": [
  {
   "cell_type": "code",
   "execution_count": 1,
   "metadata": {},
   "outputs": [
    {
     "name": "stdout",
     "output_type": "stream",
     "text": [
      "WARNING:tensorflow:From C:\\Users\\disrct\\AppData\\Roaming\\Python\\Python311\\site-packages\\keras\\src\\losses.py:2976: The name tf.losses.sparse_softmax_cross_entropy is deprecated. Please use tf.compat.v1.losses.sparse_softmax_cross_entropy instead.\n",
      "\n"
     ]
    }
   ],
   "source": [
    "import os\n",
    "from tensorflow.keras import models, layers, activations, optimizers, utils, losses, initializers, metrics, callbacks\n",
    "import numpy as np \n",
    "import cv2 as cv \n",
    "import matplotlib as plt "
   ]
  },
  {
   "cell_type": "code",
   "execution_count": 34,
   "metadata": {},
   "outputs": [],
   "source": [
    "epochs = 300\n",
    "batch_size = 64\n",
    "patience = 20\n",
    "learning_rate = 0.001\n",
    "model_path = 'checkpoints/model.keras'"
   ]
  },
  {
   "cell_type": "code",
   "execution_count": 35,
   "metadata": {},
   "outputs": [],
   "source": [
    "exists = os.path.exists(model_path)\n",
    "\n",
    "model = models.load_model(model_path) \\\n",
    "    if exists \\\n",
    "        else models.Sequential([\n",
    "            layers.Resizing(20, 20),\n",
    "            layers.Rescaling(scale=1./127.5, offset=-1),\n",
    "            layers.RandomRotation((-0.1, 0.1)),\n",
    "            layers.Conv2D(256, (3, 3),\n",
    "                activation = 'relu',\n",
    "                kernel_initializer = initializers.RandomNormal()\n",
    "            ),\n",
    "            layers.MaxPooling2D((2, 2)),\n",
    "            layers.Conv2D(256, (3, 3),\n",
    "                activation = 'relu',\n",
    "                kernel_initializer = initializers.RandomNormal()\n",
    "            ),\n",
    "            layers.MaxPooling2D((2, 2)),\n",
    "            layers.BatchNormalization(),\n",
    "            layers.Flatten(),\n",
    "            layers.Dropout(0.5),\n",
    "            layers.Dense(512,\n",
    "                activation = 'relu',\n",
    "                kernel_initializer = initializers.RandomNormal()\n",
    "            ),\n",
    "            layers.Dense(512,\n",
    "                activation = 'relu',\n",
    "                kernel_initializer = initializers.RandomNormal()\n",
    "            ),\n",
    "            layers.Dropout(0.5),\n",
    "            layers.Dense(1024,\n",
    "                activation = 'relu',\n",
    "                kernel_initializer = initializers.RandomNormal()\n",
    "            ),\n",
    "            layers.Dropout(0.5),\n",
    "            layers.Dense(512,\n",
    "                activation = 'relu',\n",
    "                kernel_initializer = initializers.RandomNormal()\n",
    "            ),\n",
    "            layers.Dense(62,\n",
    "                activation = 'sigmoid',\n",
    "                kernel_initializer = initializers.RandomNormal()\n",
    "            )\n",
    "        ])\n",
    "\n",
    "if exists:\n",
    "    model.summary()\n",
    "else:\n",
    "    model.compile(\n",
    "        optimizer = optimizers.Adam(\n",
    "        learning_rate = learning_rate\n",
    "        ),\n",
    "        loss = losses.SparseCategoricalCrossentropy(),\n",
    "        metrics = [ 'accuracy' ]\n",
    "    )"
   ]
  },
  {
   "cell_type": "code",
   "execution_count": 30,
   "metadata": {},
   "outputs": [
    {
     "name": "stdout",
     "output_type": "stream",
     "text": [
      "Found 3410 files belonging to 62 classes.\n",
      "Using 2728 files for training.\n",
      "Found 3410 files belonging to 62 classes.\n",
      "Using 682 files for validation.\n"
     ]
    }
   ],
   "source": [
    "train = utils.image_dataset_from_directory(\n",
    "    \"Img\", # Change path\n",
    "    validation_split= 0.2,\n",
    "    subset= \"training\",\n",
    "    seed= 123,\n",
    "    shuffle= True,\n",
    "    image_size= (128, 128),\n",
    "    batch_size= batch_size\n",
    ")\n",
    "\n",
    "test = utils.image_dataset_from_directory(\n",
    "    \"Img\", # Change path\n",
    "    validation_split= 0.2,\n",
    "    subset= \"validation\",\n",
    "    seed= 123,\n",
    "    shuffle= True,\n",
    "    image_size= (128, 128),\n",
    "    batch_size= batch_size\n",
    ")"
   ]
  },
  {
   "cell_type": "code",
   "execution_count": 39,
   "metadata": {},
   "outputs": [
    {
     "name": "stdout",
     "output_type": "stream",
     "text": [
      "Epoch 1/300\n"
     ]
    },
    {
     "name": "stdout",
     "output_type": "stream",
     "text": [
      "86/86 [==============================] - 4s 41ms/step - loss: 0.4223 - accuracy: 0.8508 - val_loss: 0.8729 - val_accuracy: 0.8255\n",
      "Epoch 2/300\n",
      "86/86 [==============================] - 4s 43ms/step - loss: 0.4517 - accuracy: 0.8490 - val_loss: 0.7965 - val_accuracy: 0.8314\n",
      "Epoch 3/300\n",
      "86/86 [==============================] - 3s 39ms/step - loss: 0.4317 - accuracy: 0.8552 - val_loss: 0.8640 - val_accuracy: 0.8284\n",
      "Epoch 4/300\n",
      "86/86 [==============================] - 3s 39ms/step - loss: 0.4361 - accuracy: 0.8537 - val_loss: 0.8693 - val_accuracy: 0.8314\n",
      "Epoch 5/300\n",
      "86/86 [==============================] - 4s 40ms/step - loss: 0.4079 - accuracy: 0.8508 - val_loss: 0.9102 - val_accuracy: 0.8182\n",
      "Epoch 6/300\n",
      "86/86 [==============================] - 4s 43ms/step - loss: 0.3941 - accuracy: 0.8651 - val_loss: 0.9363 - val_accuracy: 0.8270\n",
      "Epoch 7/300\n",
      "86/86 [==============================] - 4s 45ms/step - loss: 0.3867 - accuracy: 0.8614 - val_loss: 0.8574 - val_accuracy: 0.8299\n",
      "Epoch 8/300\n",
      "86/86 [==============================] - 4s 45ms/step - loss: 0.4149 - accuracy: 0.8647 - val_loss: 0.9787 - val_accuracy: 0.8211\n",
      "Epoch 9/300\n",
      "86/86 [==============================] - 5s 54ms/step - loss: 0.4021 - accuracy: 0.8640 - val_loss: 0.9192 - val_accuracy: 0.8299\n",
      "Epoch 10/300\n",
      "86/86 [==============================] - 5s 54ms/step - loss: 0.3925 - accuracy: 0.8658 - val_loss: 0.8844 - val_accuracy: 0.8182\n",
      "Epoch 11/300\n",
      "86/86 [==============================] - 4s 49ms/step - loss: 0.4179 - accuracy: 0.8647 - val_loss: 0.9179 - val_accuracy: 0.8299\n",
      "Epoch 12/300\n",
      "86/86 [==============================] - 4s 47ms/step - loss: 0.4079 - accuracy: 0.8655 - val_loss: 0.9880 - val_accuracy: 0.8123\n",
      "Epoch 13/300\n",
      "86/86 [==============================] - 4s 48ms/step - loss: 0.3643 - accuracy: 0.8702 - val_loss: 1.0212 - val_accuracy: 0.8152\n",
      "Epoch 14/300\n",
      "86/86 [==============================] - 4s 47ms/step - loss: 0.4294 - accuracy: 0.8519 - val_loss: 0.9592 - val_accuracy: 0.8167\n",
      "Epoch 15/300\n",
      "86/86 [==============================] - 4s 46ms/step - loss: 0.4290 - accuracy: 0.8497 - val_loss: 0.8558 - val_accuracy: 0.8240\n",
      "Epoch 16/300\n",
      "86/86 [==============================] - 4s 48ms/step - loss: 0.3917 - accuracy: 0.8625 - val_loss: 0.9094 - val_accuracy: 0.8167\n",
      "Epoch 17/300\n",
      "86/86 [==============================] - 4s 46ms/step - loss: 0.3622 - accuracy: 0.8680 - val_loss: 0.8923 - val_accuracy: 0.8255\n",
      "Epoch 18/300\n",
      "86/86 [==============================] - 4s 45ms/step - loss: 0.3829 - accuracy: 0.8691 - val_loss: 0.8178 - val_accuracy: 0.8255\n",
      "Epoch 19/300\n",
      "86/86 [==============================] - 4s 43ms/step - loss: 0.3665 - accuracy: 0.8801 - val_loss: 0.9543 - val_accuracy: 0.8211\n",
      "Epoch 20/300\n",
      "86/86 [==============================] - 4s 43ms/step - loss: 0.3801 - accuracy: 0.8600 - val_loss: 0.8699 - val_accuracy: 0.8270\n",
      "Epoch 21/300\n",
      "86/86 [==============================] - 4s 46ms/step - loss: 0.4066 - accuracy: 0.8600 - val_loss: 0.9549 - val_accuracy: 0.8270\n",
      "Epoch 22/300\n",
      "86/86 [==============================] - 4s 45ms/step - loss: 0.4198 - accuracy: 0.8644 - val_loss: 0.8983 - val_accuracy: 0.8240\n",
      "Epoch 22: early stopping\n"
     ]
    },
    {
     "data": {
      "text/plain": [
       "<keras.src.callbacks.History at 0x2641f52b150>"
      ]
     },
     "execution_count": 39,
     "metadata": {},
     "output_type": "execute_result"
    }
   ],
   "source": [
    "model.fit(train,\n",
    "    epochs = epochs,\n",
    "    validation_data = test,\n",
    "    callbacks= [\n",
    "        callbacks.EarlyStopping(\n",
    "            monitor = 'val_loss',\n",
    "            patience = patience,\n",
    "            verbose = 1\n",
    "        ),\n",
    "        callbacks.ModelCheckpoint(\n",
    "            filepath = model_path,\n",
    "            save_weights_only = False,\n",
    "            monitor = 'loss',\n",
    "            mode = 'min',\n",
    "            save_best_only = True\n",
    "        )\n",
    "    ]\n",
    ")"
   ]
  }
 ],
 "metadata": {
  "kernelspec": {
   "display_name": "Python 3",
   "language": "python",
   "name": "python3"
  },
  "language_info": {
   "codemirror_mode": {
    "name": "ipython",
    "version": 3
   },
   "file_extension": ".py",
   "mimetype": "text/x-python",
   "name": "python",
   "nbconvert_exporter": "python",
   "pygments_lexer": "ipython3",
   "version": "3.11.4"
  }
 },
 "nbformat": 4,
 "nbformat_minor": 2
}
