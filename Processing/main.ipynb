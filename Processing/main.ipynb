{
 "cells": [
  {
   "cell_type": "code",
   "execution_count": 1,
   "metadata": {},
   "outputs": [],
   "source": [
    "import os\n",
    "import sys\n",
    "import random\n",
    "import cv2 as cv\n",
    "from IPython.display import clear_output"
   ]
  },
  {
   "cell_type": "code",
   "execution_count": 2,
   "metadata": {},
   "outputs": [],
   "source": [
    "from utils import *\n",
    "from segmentation import getRects, cutImage\n",
    "from thickness import thicknessImg"
   ]
  },
  {
   "cell_type": "code",
   "execution_count": 3,
   "metadata": {},
   "outputs": [],
   "source": [
    "original_folder = \"../Img\"\n",
    "processed_folder = \"./Img\""
   ]
  },
  {
   "cell_type": "code",
   "execution_count": 4,
   "metadata": {},
   "outputs": [],
   "source": [
    "def clear():\n",
    "    if 'ipykernel' in sys.modules:\n",
    "        clear_output(wait=True)\n",
    "    else:\n",
    "        os.system('cls' if os.name == 'nt' else 'clear')"
   ]
  },
  {
   "cell_type": "code",
   "execution_count": 6,
   "metadata": {},
   "outputs": [
    {
     "ename": "KeyboardInterrupt",
     "evalue": "",
     "output_type": "error",
     "traceback": [
      "\u001b[1;31m---------------------------------------------------------------------------\u001b[0m",
      "\u001b[1;31mKeyboardInterrupt\u001b[0m                         Traceback (most recent call last)",
      "Cell \u001b[1;32mIn[6], line 5\u001b[0m\n\u001b[0;32m      3\u001b[0m images[\u001b[38;5;28mdir\u001b[39m] \u001b[38;5;241m=\u001b[39m {}\n\u001b[0;32m      4\u001b[0m \u001b[38;5;28;01mfor\u001b[39;00m file \u001b[38;5;129;01min\u001b[39;00m os\u001b[38;5;241m.\u001b[39mlistdir(\u001b[38;5;124mf\u001b[39m\u001b[38;5;124m'\u001b[39m\u001b[38;5;132;01m{\u001b[39;00moriginal_folder\u001b[38;5;132;01m}\u001b[39;00m\u001b[38;5;124m/\u001b[39m\u001b[38;5;132;01m{\u001b[39;00m\u001b[38;5;28mdir\u001b[39m\u001b[38;5;132;01m}\u001b[39;00m\u001b[38;5;124m'\u001b[39m):\n\u001b[1;32m----> 5\u001b[0m     images[\u001b[38;5;28mdir\u001b[39m][file] \u001b[38;5;241m=\u001b[39m \u001b[43mcv\u001b[49m\u001b[38;5;241;43m.\u001b[39;49m\u001b[43mimread\u001b[49m\u001b[43m(\u001b[49m\u001b[38;5;124;43mf\u001b[39;49m\u001b[38;5;124;43m'\u001b[39;49m\u001b[38;5;132;43;01m{\u001b[39;49;00m\u001b[43moriginal_folder\u001b[49m\u001b[38;5;132;43;01m}\u001b[39;49;00m\u001b[38;5;124;43m/\u001b[39;49m\u001b[38;5;132;43;01m{\u001b[39;49;00m\u001b[38;5;28;43mdir\u001b[39;49m\u001b[38;5;132;43;01m}\u001b[39;49;00m\u001b[38;5;124;43m/\u001b[39;49m\u001b[38;5;132;43;01m{\u001b[39;49;00m\u001b[43mfile\u001b[49m\u001b[38;5;132;43;01m}\u001b[39;49;00m\u001b[38;5;124;43m'\u001b[39;49m\u001b[43m)\u001b[49m\n",
      "\u001b[1;31mKeyboardInterrupt\u001b[0m: "
     ]
    }
   ],
   "source": [
    "images = {}\n",
    "for dir in os.listdir(original_folder):\n",
    "    images[dir] = {}\n",
    "    for file in os.listdir(f'{original_folder}/{dir}'):\n",
    "        images[dir][file] = cv.imread(f'{original_folder}/{dir}/{file}')"
   ]
  },
  {
   "cell_type": "code",
   "execution_count": 15,
   "metadata": {},
   "outputs": [
    {
     "name": "stdout",
     "output_type": "stream",
     "text": [
      "Cropping Images...\n",
      "100.0%\n"
     ]
    }
   ],
   "source": [
    "total = GetTotalFiles(original_folder)\n",
    "processed = 0\n",
    "\n",
    "# Crop images using segmentation\n",
    "for dir in os.listdir(original_folder):\n",
    "    for file in os.listdir(f\"{original_folder}/{dir}\"):\n",
    "        img_path = f\"{original_folder}/{dir}/{file}\"\n",
    "        img = cv.imread(img_path)\n",
    "        \n",
    "        rects = getRects(img)\n",
    "        cropped = cutImage(img, Rects2Rect(rects))\n",
    "        \n",
    "        SaveImage(f\"{processed_folder}/{dir}\", file, cropped)\n",
    "        \n",
    "        processed += 1\n",
    "        clear()\n",
    "        print(\"Cropping Images...\")\n",
    "        print(f\"{round((processed / total) * 100, 2)}%\")"
   ]
  },
  {
   "cell_type": "code",
   "execution_count": 16,
   "metadata": {},
   "outputs": [
    {
     "name": "stdout",
     "output_type": "stream",
     "text": [
      "Creating Different Thicknesses...\n",
      "100.0%\n"
     ]
    }
   ],
   "source": [
    "amount = 200\n",
    "\n",
    "total = GetTotalFolders(processed_folder) * amount\n",
    "processed = 0\n",
    "\n",
    "for dir in os.listdir(processed_folder):\n",
    "    images_dir = images[dir]\n",
    "    keys = list(images_dir.keys())\n",
    "    for i in range(amount):\n",
    "        path = f'{processed_folder}/{dir}/'\n",
    "        file = f'{str(i + 1).zfill(3)}.png'\n",
    "        processed += 1\n",
    "        if os.path.exists(path + file):\n",
    "            continue\n",
    "        \n",
    "        # reference = os.listdir(f'{original_folder}/{dir}')\n",
    "        # reference = random.choice(reference)\n",
    "        # img = cv.imread(f'{processed_folder}/{dir}/{reference}')\n",
    "        reference = random.choice(keys)\n",
    "        img = images_dir[reference]\n",
    "        \n",
    "        img = thicknessImg(img)\n",
    "        SaveImage(path, file, img)\n",
    "\n",
    "        clear()\n",
    "        print(\"Creating Different Thicknesses...\")\n",
    "        print(f\"{round((processed / total) * 100, 2)}%\")"
   ]
  },
  {
   "cell_type": "code",
   "execution_count": 7,
   "metadata": {},
   "outputs": [
    {
     "name": "stdout",
     "output_type": "stream",
     "text": [
      "Resizing Images...\n",
      "100.0%\n"
     ]
    }
   ],
   "source": [
    "total = GetTotalFiles(processed_folder)\n",
    "processed = 0\n",
    "percent = \"\"\n",
    "\n",
    "new_size = (128, 128)\n",
    "for dir in os.listdir(processed_folder):\n",
    "    dir_path = f'{processed_folder}/{dir}/'\n",
    "    for file in os.listdir(dir_path):\n",
    "        file_path = dir_path + file\n",
    "        img = cv.imread(file_path)\n",
    "        \n",
    "        img = resize(img, new_size)\n",
    "        SaveImage(dir_path, file, img)\n",
    "        \n",
    "        processed += 1\n",
    "        new_percent = f\"{round((processed / total) * 100, 2)}%\"\n",
    "        if new_percent != percent:\n",
    "            clear()\n",
    "            print(\"Resizing Images...\")\n",
    "            print(new_percent)"
   ]
  }
 ],
 "metadata": {
  "kernelspec": {
   "display_name": "Python 3",
   "language": "python",
   "name": "python3"
  },
  "language_info": {
   "codemirror_mode": {
    "name": "ipython",
    "version": 3
   },
   "file_extension": ".py",
   "mimetype": "text/x-python",
   "name": "python",
   "nbconvert_exporter": "python",
   "pygments_lexer": "ipython3",
   "version": "3.11.4"
  }
 },
 "nbformat": 4,
 "nbformat_minor": 2
}
