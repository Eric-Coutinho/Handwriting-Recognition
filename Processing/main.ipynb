{
 "cells": [
  {
   "cell_type": "code",
   "execution_count": 13,
   "metadata": {},
   "outputs": [],
   "source": [
    "import os\n",
    "import sys\n",
    "import cv2 as cv\n",
    "from IPython.display import clear_output"
   ]
  },
  {
   "cell_type": "code",
   "execution_count": 2,
   "metadata": {},
   "outputs": [],
   "source": [
    "from utils import *\n",
    "from segmentation import getRects, cutImage"
   ]
  },
  {
   "cell_type": "code",
   "execution_count": 9,
   "metadata": {},
   "outputs": [],
   "source": [
    "original_folder = \"../Img\"\n",
    "processed_folder = \"./Img\""
   ]
  },
  {
   "cell_type": "code",
   "execution_count": 11,
   "metadata": {},
   "outputs": [],
   "source": [
    "def clear():\n",
    "    if 'ipykernel' in sys.modules:\n",
    "        clear_output(wait=True)\n",
    "    else:\n",
    "        os.system('cls' if os.name == 'nt' else 'clear')"
   ]
  },
  {
   "cell_type": "code",
   "execution_count": 15,
   "metadata": {},
   "outputs": [
    {
     "name": "stdout",
     "output_type": "stream",
     "text": [
      "Cropping Images...\n",
      "100.0%\n"
     ]
    }
   ],
   "source": [
    "total = GetTotalFiles(original_folder)\n",
    "processed = 0\n",
    "\n",
    "# Crop images using segmentation\n",
    "for dir in os.listdir(original_folder):\n",
    "    for file in os.listdir(f\"{original_folder}/{dir}\"):\n",
    "        img_path = f\"{original_folder}/{dir}/{file}\"\n",
    "        img = cv.imread(img_path)\n",
    "        \n",
    "        rects = getRects(img)\n",
    "        cropped = cutImage(img, Rects2Rect(rects))\n",
    "        \n",
    "        SaveImage(f\"{processed_folder}/{dir}\", file, cropped)\n",
    "        \n",
    "        processed += 1\n",
    "        clear()\n",
    "        print(\"Cropping Images...\")\n",
    "        print(f\"{round((processed / total) * 100, 2)}%\")"
   ]
  }
 ],
 "metadata": {
  "kernelspec": {
   "display_name": "Python 3",
   "language": "python",
   "name": "python3"
  },
  "language_info": {
   "codemirror_mode": {
    "name": "ipython",
    "version": 3
   },
   "file_extension": ".py",
   "mimetype": "text/x-python",
   "name": "python",
   "nbconvert_exporter": "python",
   "pygments_lexer": "ipython3",
   "version": "3.11.4"
  }
 },
 "nbformat": 4,
 "nbformat_minor": 2
}
