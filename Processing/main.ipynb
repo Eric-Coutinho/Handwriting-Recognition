{
 "cells": [
  {
   "cell_type": "code",
   "execution_count": 1,
   "metadata": {},
   "outputs": [],
   "source": [
    "import os\n",
    "import sys\n",
    "import random\n",
    "import cv2 as cv\n",
    "from IPython.display import clear_output"
   ]
  },
  {
   "cell_type": "code",
   "execution_count": 2,
   "metadata": {},
   "outputs": [],
   "source": [
    "from utils import *\n",
    "from segmentation import getRects, cutImage\n",
    "from thickness import thicknessImg"
   ]
  },
  {
   "cell_type": "code",
   "execution_count": 3,
   "metadata": {},
   "outputs": [],
   "source": [
    "original_folder = \"../Img\"\n",
    "processed_folder = \"./Img\""
   ]
  },
  {
   "cell_type": "code",
   "execution_count": 4,
   "metadata": {},
   "outputs": [],
   "source": [
    "def clear():\n",
    "    if 'ipykernel' in sys.modules:\n",
    "        clear_output(wait=True)\n",
    "    else:\n",
    "        os.system('cls' if os.name == 'nt' else 'clear')"
   ]
  },
  {
   "cell_type": "code",
   "execution_count": 15,
   "metadata": {},
   "outputs": [
    {
     "name": "stdout",
     "output_type": "stream",
     "text": [
      "Cropping Images...\n",
      "100.0%\n"
     ]
    }
   ],
   "source": [
    "total = GetTotalFiles(original_folder)\n",
    "processed = 0\n",
    "\n",
    "# Crop images using segmentation\n",
    "for dir in os.listdir(original_folder):\n",
    "    for file in os.listdir(f\"{original_folder}/{dir}\"):\n",
    "        img_path = f\"{original_folder}/{dir}/{file}\"\n",
    "        img = cv.imread(img_path)\n",
    "        \n",
    "        rects = getRects(img)\n",
    "        cropped = cutImage(img, Rects2Rect(rects))\n",
    "        \n",
    "        SaveImage(f\"{processed_folder}/{dir}\", file, cropped)\n",
    "        \n",
    "        processed += 1\n",
    "        clear()\n",
    "        print(\"Cropping Images...\")\n",
    "        print(f\"{round((processed / total) * 100, 2)}%\")"
   ]
  },
  {
   "cell_type": "code",
   "execution_count": 9,
   "metadata": {},
   "outputs": [
    {
     "ename": "KeyError",
     "evalue": "7",
     "output_type": "error",
     "traceback": [
      "\u001b[1;31m---------------------------------------------------------------------------\u001b[0m",
      "\u001b[1;31mKeyError\u001b[0m                                  Traceback (most recent call last)",
      "Cell \u001b[1;32mIn[9], line 18\u001b[0m\n\u001b[0;32m     15\u001b[0m \u001b[38;5;28;01mif\u001b[39;00m os\u001b[38;5;241m.\u001b[39mpath\u001b[38;5;241m.\u001b[39mexists(path \u001b[38;5;241m+\u001b[39m file):\n\u001b[0;32m     16\u001b[0m     \u001b[38;5;28;01mcontinue\u001b[39;00m\n\u001b[1;32m---> 18\u001b[0m img \u001b[38;5;241m=\u001b[39m \u001b[43mrandom\u001b[49m\u001b[38;5;241;43m.\u001b[39;49m\u001b[43mchoice\u001b[49m\u001b[43m(\u001b[49m\u001b[43mimages\u001b[49m\u001b[43m)\u001b[49m\n\u001b[0;32m     20\u001b[0m img \u001b[38;5;241m=\u001b[39m thicknessImg(img)\n\u001b[0;32m     21\u001b[0m SaveImage(path, file, img)\n",
      "File \u001b[1;32mc:\\Program Files\\Python311\\Lib\\random.py:374\u001b[0m, in \u001b[0;36mRandom.choice\u001b[1;34m(self, seq)\u001b[0m\n\u001b[0;32m    372\u001b[0m \u001b[38;5;28;01mif\u001b[39;00m \u001b[38;5;129;01mnot\u001b[39;00m \u001b[38;5;28mlen\u001b[39m(seq):\n\u001b[0;32m    373\u001b[0m     \u001b[38;5;28;01mraise\u001b[39;00m \u001b[38;5;167;01mIndexError\u001b[39;00m(\u001b[38;5;124m'\u001b[39m\u001b[38;5;124mCannot choose from an empty sequence\u001b[39m\u001b[38;5;124m'\u001b[39m)\n\u001b[1;32m--> 374\u001b[0m \u001b[38;5;28;01mreturn\u001b[39;00m \u001b[43mseq\u001b[49m\u001b[43m[\u001b[49m\u001b[38;5;28;43mself\u001b[39;49m\u001b[38;5;241;43m.\u001b[39;49m\u001b[43m_randbelow\u001b[49m\u001b[43m(\u001b[49m\u001b[38;5;28;43mlen\u001b[39;49m\u001b[43m(\u001b[49m\u001b[43mseq\u001b[49m\u001b[43m)\u001b[49m\u001b[43m)\u001b[49m\u001b[43m]\u001b[49m\n",
      "\u001b[1;31mKeyError\u001b[0m: 7"
     ]
    }
   ],
   "source": [
    "amount = 999\n",
    "\n",
    "total = GetTotalFolders(processed_folder) * amount\n",
    "processed = 0\n",
    "\n",
    "for dir in os.listdir(processed_folder):\n",
    "    for i in range(amount):\n",
    "        path = f'{processed_folder}/{dir}/'\n",
    "        file = f'{str(i + 1).zfill(3)}.png'\n",
    "        if os.path.exists(path + file):\n",
    "            continue\n",
    "        \n",
    "        reference = os.listdir(f'{original_folder}/{dir}')\n",
    "        reference = random.choice(reference)\n",
    "        img = cv.imread(f'{processed_folder}/{dir}/{reference}')\n",
    "        \n",
    "        img = thicknessImg(img)\n",
    "        SaveImage(path, file, img)\n",
    "        \n",
    "        processed += 1\n",
    "        clear()\n",
    "        print(\"Creating Different Thicknesses...\")\n",
    "        print(f\"{round((processed / total) * 100, 2)}%\")"
   ]
  }
 ],
 "metadata": {
  "kernelspec": {
   "display_name": "Python 3",
   "language": "python",
   "name": "python3"
  },
  "language_info": {
   "codemirror_mode": {
    "name": "ipython",
    "version": 3
   },
   "file_extension": ".py",
   "mimetype": "text/x-python",
   "name": "python",
   "nbconvert_exporter": "python",
   "pygments_lexer": "ipython3",
   "version": "3.11.4"
  }
 },
 "nbformat": 4,
 "nbformat_minor": 2
}
