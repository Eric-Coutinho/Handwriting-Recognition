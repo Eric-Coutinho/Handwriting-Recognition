{
 "cells": [
  {
   "cell_type": "code",
   "execution_count": 2,
   "metadata": {},
   "outputs": [
    {
     "name": "stdout",
     "output_type": "stream",
     "text": [
      "WARNING:tensorflow:From C:\\Users\\disrct\\AppData\\Roaming\\Python\\Python311\\site-packages\\keras\\src\\losses.py:2976: The name tf.losses.sparse_softmax_cross_entropy is deprecated. Please use tf.compat.v1.losses.sparse_softmax_cross_entropy instead.\n",
      "\n",
      "WARNING:tensorflow:From C:\\Users\\disrct\\AppData\\Roaming\\Python\\Python311\\site-packages\\keras\\src\\backend.py:1398: The name tf.executing_eagerly_outside_functions is deprecated. Please use tf.compat.v1.executing_eagerly_outside_functions instead.\n",
      "\n",
      "WARNING:tensorflow:From C:\\Users\\disrct\\AppData\\Roaming\\Python\\Python311\\site-packages\\keras\\src\\layers\\pooling\\max_pooling2d.py:161: The name tf.nn.max_pool is deprecated. Please use tf.nn.max_pool2d instead.\n",
      "\n"
     ]
    }
   ],
   "source": [
    "import Processing as pcs\n",
    "import cv2 as cv\n",
    "import numpy as np\n",
    "import tensorflow as tf\n",
    "\n",
    "model = tf.keras.models.load_model(\"./989-995.keras\")"
   ]
  },
  {
   "cell_type": "code",
   "execution_count": 9,
   "metadata": {},
   "outputs": [],
   "source": [
    "img = cv.imread(\"./screenshot.png\")"
   ]
  },
  {
   "cell_type": "code",
   "execution_count": 10,
   "metadata": {},
   "outputs": [
    {
     "name": "stdout",
     "output_type": "stream",
     "text": [
      "8\n"
     ]
    }
   ],
   "source": [
    "text = pcs.precessText(img)"
   ]
  },
  {
   "cell_type": "code",
   "execution_count": 11,
   "metadata": {},
   "outputs": [
    {
     "name": "stdout",
     "output_type": "stream",
     "text": [
      "(149, 120, 3)\n",
      "1/1 [==============================] - 0s 25ms/step\n",
      "(321, 162, 3)\n",
      "1/1 [==============================] - 0s 21ms/step\n",
      "(110, 84, 3)\n",
      "1/1 [==============================] - 0s 19ms/step\n",
      "(139, 87, 3)\n",
      "1/1 [==============================] - 0s 18ms/step\n",
      "(34, 102, 3)\n",
      "1/1 [==============================] - 0s 18ms/step\n",
      "(752, 979, 3)\n",
      "1/1 [==============================] - 0s 20ms/step\n",
      "(128, 161, 3)\n",
      "1/1 [==============================] - 0s 19ms/step\n",
      "(153, 120, 3)\n",
      "1/1 [==============================] - 0s 18ms/step\n"
     ]
    }
   ],
   "source": [
    "result = \"\"\n",
    "for line in text:\n",
    "    for word in line:\n",
    "        for char in word:\n",
    "            if char[0][0] == char[1][0] or char[0][1] == char[1][1]:\n",
    "                continue\n",
    "            image = pcs.utils.cutImage(img, char)\n",
    "            image = pcs.utils.resize(image, (128, 128))\n",
    "            data = np.array([image])\n",
    "            predict = model.predict(data)\n",
    "            result += pcs.utils.asciiToChar(pcs.indexToAscii(np.argmax(predict)))\n",
    "        result += \" \"\n",
    "    result += \"\\n\""
   ]
  }
 ],
 "metadata": {
  "kernelspec": {
   "display_name": "Python 3",
   "language": "python",
   "name": "python3"
  },
  "language_info": {
   "codemirror_mode": {
    "name": "ipython",
    "version": 3
   },
   "file_extension": ".py",
   "mimetype": "text/x-python",
   "name": "python",
   "nbconvert_exporter": "python",
   "pygments_lexer": "ipython3",
   "version": "3.11.4"
  }
 },
 "nbformat": 4,
 "nbformat_minor": 2
}
